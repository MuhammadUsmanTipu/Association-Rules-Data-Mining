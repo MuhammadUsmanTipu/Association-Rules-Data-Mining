{
 "cells": [
  {
   "cell_type": "markdown",
   "id": "30a76b2e",
   "metadata": {},
   "source": [
    "# Task "
   ]
  },
  {
   "cell_type": "code",
   "execution_count": 770,
   "id": "67baf823",
   "metadata": {},
   "outputs": [],
   "source": [
    "# importing libraries\n",
    "# ! pip install apyori\n",
    "# ! pip install pandas mlxtend\n",
    "from apyori import apriori"
   ]
  },
  {
   "cell_type": "code",
   "execution_count": 771,
   "id": "78929b90",
   "metadata": {},
   "outputs": [
    {
     "data": {
      "text/html": [
       "<div>\n",
       "<style scoped>\n",
       "    .dataframe tbody tr th:only-of-type {\n",
       "        vertical-align: middle;\n",
       "    }\n",
       "\n",
       "    .dataframe tbody tr th {\n",
       "        vertical-align: top;\n",
       "    }\n",
       "\n",
       "    .dataframe thead th {\n",
       "        text-align: right;\n",
       "    }\n",
       "</style>\n",
       "<table border=\"1\" class=\"dataframe\">\n",
       "  <thead>\n",
       "    <tr style=\"text-align: right;\">\n",
       "      <th></th>\n",
       "      <th>IDs</th>\n",
       "      <th>itemlist</th>\n",
       "    </tr>\n",
       "  </thead>\n",
       "  <tbody>\n",
       "    <tr>\n",
       "      <th>1</th>\n",
       "      <td>1</td>\n",
       "      <td>sausage,whole milk,semi-finished bread,yogurt</td>\n",
       "    </tr>\n",
       "    <tr>\n",
       "      <th>2</th>\n",
       "      <td>2</td>\n",
       "      <td>whole milk,pastry,salty snack</td>\n",
       "    </tr>\n",
       "    <tr>\n",
       "      <th>3</th>\n",
       "      <td>3</td>\n",
       "      <td>canned beer,misc. beverages</td>\n",
       "    </tr>\n",
       "    <tr>\n",
       "      <th>4</th>\n",
       "      <td>4</td>\n",
       "      <td>sausage,hygiene articles</td>\n",
       "    </tr>\n",
       "    <tr>\n",
       "      <th>5</th>\n",
       "      <td>5</td>\n",
       "      <td>soda,pickled vegetables</td>\n",
       "    </tr>\n",
       "  </tbody>\n",
       "</table>\n",
       "</div>"
      ],
      "text/plain": [
       "  IDs                                       itemlist\n",
       "1   1  sausage,whole milk,semi-finished bread,yogurt\n",
       "2   2                  whole milk,pastry,salty snack\n",
       "3   3                    canned beer,misc. beverages\n",
       "4   4                       sausage,hygiene articles\n",
       "5   5                        soda,pickled vegetables"
      ]
     },
     "execution_count": 771,
     "metadata": {},
     "output_type": "execute_result"
    }
   ],
   "source": [
    "# Reading the dataset and making dataframe \n",
    "yourdata_frame = pd.read_fwf('item_list.csv', header=None)\n",
    "# Fixing the comma separations in file\n",
    "yourdata_frame = yourdata_frame[0].str.split(',', 1, expand=True)\n",
    "yourdata_frame = yourdata_frame.drop([0, 0])\n",
    "# Titling the columns in a dataframe\n",
    "yourdata_frame.columns = ['IDs','itemlist']\n",
    "yourdata_frame.head()"
   ]
  },
  {
   "cell_type": "code",
   "execution_count": 772,
   "id": "20b015bf",
   "metadata": {},
   "outputs": [],
   "source": [
    "# removing extra which is not required\n",
    "rem = {'/': ','}\n",
    "yourdata_frame['itemlist'].replace(rem, regex=True, inplace=True)"
   ]
  },
  {
   "cell_type": "code",
   "execution_count": 773,
   "id": "62c44fe9",
   "metadata": {},
   "outputs": [
    {
     "data": {
      "text/plain": [
       "1        None\n",
       "2        None\n",
       "3        None\n",
       "4        None\n",
       "5        None\n",
       "         ... \n",
       "14959    None\n",
       "14960    None\n",
       "14961    None\n",
       "14962    None\n",
       "14963    None\n",
       "Name: itemlist, Length: 14963, dtype: object"
      ]
     },
     "execution_count": 773,
     "metadata": {},
     "output_type": "execute_result"
    }
   ],
   "source": [
    "# saving in an array \n",
    "content = []\n",
    "yourdata_frame['itemlist'].apply(lambda x: content.append(x.split(',')))"
   ]
  },
  {
   "cell_type": "markdown",
   "id": "a95d7000",
   "metadata": {},
   "source": [
    "- Now we have separated and then saved all the content in a form of array to process our algorithim."
   ]
  },
  {
   "cell_type": "code",
   "execution_count": 774,
   "id": "163573a4",
   "metadata": {},
   "outputs": [
    {
     "data": {
      "text/plain": [
       "<generator object apriori at 0x00000253E7573040>"
      ]
     },
     "execution_count": 774,
     "metadata": {},
     "output_type": "execute_result"
    }
   ],
   "source": [
    "# Creating the model\n",
    "\n",
    "aprio = apriori(transactions=content, min_support=0.001, min_confidence=0.05, min_lift=3, min_length=2, max_length=2)\n",
    "aprio\n"
   ]
  },
  {
   "cell_type": "code",
   "execution_count": 775,
   "id": "16cbfabc",
   "metadata": {},
   "outputs": [
    {
     "name": "stdout",
     "output_type": "stream",
     "text": [
      "Rule: bags -> cling film\n",
      "Support value: 0.004945532313038829\n",
      "Confidence Value: 0.9487179487179487\n",
      "Lift: 191.83333333333331\n",
      "*************************************\n",
      "Rule: red -> blush wine\n",
      "Support value: 0.010425716768027803\n",
      "Confidence Value: 1.0\n",
      "Lift: 95.30573248407643\n",
      "*************************************\n",
      "Rule: buns -> rolls\n",
      "Support value: 0.10940319454654815\n",
      "Confidence Value: 1.0\n",
      "Lift: 9.134920634920634\n",
      "*************************************\n",
      "Rule: fertilizer -> flower soil\n",
      "Support value: 0.0010693042839002875\n",
      "Confidence Value: 1.0\n",
      "Lift: 935.1874999999999\n",
      "*************************************\n",
      "Rule: film -> photo\n",
      "Support value: 0.005212858384013901\n",
      "Confidence Value: 1.0\n",
      "Lift: 191.83333333333331\n",
      "*************************************\n",
      "Rule: vegetable juice -> fruit\n",
      "Support value: 0.03328209583639644\n",
      "Confidence Value: 0.9803149606299213\n",
      "Lift: 29.454724409448822\n",
      "*************************************\n",
      "Rule: nuts -> prunes\n",
      "Support value: 0.002205440085544343\n",
      "Confidence Value: 1.0\n",
      "Lift: 453.4242424242424\n",
      "*************************************\n",
      "Rule: packaged fruit -> vegetables\n",
      "Support value: 0.008220276682483459\n",
      "Confidence Value: 0.9761904761904763\n",
      "Lift: 118.75396825396827\n",
      "*************************************\n",
      "Rule: whipped -> sour cream\n",
      "Support value: 0.0429726659092428\n",
      "Confidence Value: 1.0\n",
      "Lift: 23.12673879443586\n",
      "*************************************\n"
     ]
    }
   ],
   "source": [
    "sav = list(aprio)\n",
    "for item in sav:\n",
    "\n",
    "    # Saving the indexes of the the list we created for the content\n",
    "    pair = item[0] \n",
    "    items = [x for x in pair]\n",
    "    print(\"Rule: \" + items[0] + \" -> \" + items[1])\n",
    "    print(\"Support value: \" + str(item[1]))\n",
    "    \n",
    "    print(\"Confidence Value: \" + str(item[2][0][2]))\n",
    "    print(\"Lift: \" + str(item[2][0][3]))\n",
    "    print (\"*************************************\")"
   ]
  },
  {
   "cell_type": "markdown",
   "id": "b0365205",
   "metadata": {},
   "source": [
    "- Now making separate models by changing the values of support and confidence to see how they varies."
   ]
  },
  {
   "cell_type": "code",
   "execution_count": 776,
   "id": "08a1fadb",
   "metadata": {},
   "outputs": [
    {
     "data": {
      "text/plain": [
       "<generator object apriori at 0x00000253E72432E0>"
      ]
     },
     "execution_count": 776,
     "metadata": {},
     "output_type": "execute_result"
    }
   ],
   "source": [
    "# Creating the model\n",
    "\n",
    "aprio = apriori(transactions=content, min_support=0.03, min_confidence=0.2, min_lift=3, min_length=2, max_length=2)\n",
    "aprio"
   ]
  },
  {
   "cell_type": "code",
   "execution_count": 777,
   "id": "155e3407",
   "metadata": {},
   "outputs": [
    {
     "name": "stdout",
     "output_type": "stream",
     "text": [
      "Rule: buns -> rolls\n",
      "Support value: 0.10940319454654815\n",
      "Confidence Value: 1.0\n",
      "Lift: 9.134920634920634\n",
      "*************************************\n",
      "Rule: vegetable juice -> fruit\n",
      "Support value: 0.03328209583639644\n",
      "Confidence Value: 0.9803149606299213\n",
      "Lift: 29.454724409448822\n",
      "*************************************\n",
      "Rule: whipped -> sour cream\n",
      "Support value: 0.0429726659092428\n",
      "Confidence Value: 1.0\n",
      "Lift: 23.12673879443586\n",
      "*************************************\n"
     ]
    }
   ],
   "source": [
    "sav = list(aprio)\n",
    "for item in sav:\n",
    "\n",
    "    # Saving the indexes of the the list we created for the content\n",
    "    pair = item[0] \n",
    "    items = [x for x in pair]\n",
    "    print(\"Rule: \" + items[0] + \" -> \" + items[1])\n",
    "    print(\"Support value: \" + str(item[1]))\n",
    "    \n",
    "    print(\"Confidence Value: \" + str(item[2][0][2]))\n",
    "    print(\"Lift: \" + str(item[2][0][3]))\n",
    "    print (\"*************************************\")\n",
    "   "
   ]
  },
  {
   "cell_type": "code",
   "execution_count": 778,
   "id": "350b985b",
   "metadata": {},
   "outputs": [
    {
     "data": {
      "text/plain": [
       "[RelationRecord(items=frozenset({'buns', 'rolls'}), support=0.10940319454654815, ordered_statistics=[OrderedStatistic(items_base=frozenset({'buns'}), items_add=frozenset({'rolls'}), confidence=1.0, lift=9.134920634920634), OrderedStatistic(items_base=frozenset({'rolls'}), items_add=frozenset({'buns'}), confidence=0.9993894993894994, lift=9.134920634920634)]),\n",
       " RelationRecord(items=frozenset({'vegetable juice', 'fruit'}), support=0.03328209583639644, ordered_statistics=[OrderedStatistic(items_base=frozenset({'fruit'}), items_add=frozenset({'vegetable juice'}), confidence=0.9803149606299213, lift=29.454724409448822), OrderedStatistic(items_base=frozenset({'vegetable juice'}), items_add=frozenset({'fruit'}), confidence=1.0, lift=29.454724409448822)]),\n",
       " RelationRecord(items=frozenset({'whipped', 'sour cream'}), support=0.0429726659092428, ordered_statistics=[OrderedStatistic(items_base=frozenset({'sour cream'}), items_add=frozenset({'whipped'}), confidence=1.0, lift=23.12673879443586), OrderedStatistic(items_base=frozenset({'whipped'}), items_add=frozenset({'sour cream'}), confidence=0.9938176197836167, lift=23.12673879443586)])]"
      ]
     },
     "execution_count": 778,
     "metadata": {},
     "output_type": "execute_result"
    }
   ],
   "source": [
    "sav"
   ]
  },
  {
   "cell_type": "code",
   "execution_count": 779,
   "id": "65b94bc4",
   "metadata": {},
   "outputs": [
    {
     "data": {
      "text/plain": [
       "<generator object apriori at 0x00000253E6E902E0>"
      ]
     },
     "execution_count": 779,
     "metadata": {},
     "output_type": "execute_result"
    }
   ],
   "source": [
    "# Creating the model\n",
    "\n",
    "aprio = apriori(transactions=content, min_support=0.0005, min_confidence=0.0025, min_lift=3, min_length=2, max_length=2)\n",
    "aprio\n"
   ]
  },
  {
   "cell_type": "code",
   "execution_count": 780,
   "id": "09657f17",
   "metadata": {},
   "outputs": [
    {
     "name": "stdout",
     "output_type": "stream",
     "text": [
      "Rule: bags -> cling film\n",
      "Support value: 0.004945532313038829\n",
      "Confidence Value: 0.9487179487179487\n",
      "Lift: 191.83333333333331\n",
      "*************************************\n",
      "Rule: red -> blush wine\n",
      "Support value: 0.010425716768027803\n",
      "Confidence Value: 1.0\n",
      "Lift: 95.30573248407643\n",
      "*************************************\n",
      "Rule: buns -> rolls\n",
      "Support value: 0.10940319454654815\n",
      "Confidence Value: 1.0\n",
      "Lift: 9.134920634920634\n",
      "*************************************\n",
      "Rule: fertilizer -> flower soil\n",
      "Support value: 0.0010693042839002875\n",
      "Confidence Value: 1.0\n",
      "Lift: 935.1874999999999\n",
      "*************************************\n",
      "Rule: film -> photo\n",
      "Support value: 0.005212858384013901\n",
      "Confidence Value: 1.0\n",
      "Lift: 191.83333333333331\n",
      "*************************************\n",
      "Rule: vegetable juice -> fruit\n",
      "Support value: 0.03328209583639644\n",
      "Confidence Value: 0.9803149606299213\n",
      "Lift: 29.454724409448822\n",
      "*************************************\n",
      "Rule: nuts -> prunes\n",
      "Support value: 0.002205440085544343\n",
      "Confidence Value: 1.0\n",
      "Lift: 453.4242424242424\n",
      "*************************************\n",
      "Rule: packaged fruit -> vegetables\n",
      "Support value: 0.008220276682483459\n",
      "Confidence Value: 0.9761904761904763\n",
      "Lift: 118.75396825396827\n",
      "*************************************\n",
      "Rule: whipped -> sour cream\n",
      "Support value: 0.0429726659092428\n",
      "Confidence Value: 1.0\n",
      "Lift: 23.12673879443586\n",
      "*************************************\n"
     ]
    }
   ],
   "source": [
    "sav = list(aprio)\n",
    "for item in sav:\n",
    "\n",
    "    # Saving the indexes of the the list we created for the content\n",
    "    pair = item[0] \n",
    "    items = [x for x in pair]\n",
    "    print(\"Rule: \" + items[0] + \" -> \" + items[1])\n",
    "    print(\"Support value: \" + str(item[1]))\n",
    "    \n",
    "    print(\"Confidence Value: \" + str(item[2][0][2]))\n",
    "    print(\"Lift: \" + str(item[2][0][3]))\n",
    "    print (\"*************************************\")"
   ]
  },
  {
   "cell_type": "code",
   "execution_count": 781,
   "id": "f6d36c5b",
   "metadata": {},
   "outputs": [
    {
     "data": {
      "text/plain": [
       "[RelationRecord(items=frozenset({'bags', 'cling film'}), support=0.004945532313038829, ordered_statistics=[OrderedStatistic(items_base=frozenset({'bags'}), items_add=frozenset({'cling film'}), confidence=0.9487179487179487, lift=191.83333333333331), OrderedStatistic(items_base=frozenset({'cling film'}), items_add=frozenset({'bags'}), confidence=1.0, lift=191.83333333333331)]),\n",
       " RelationRecord(items=frozenset({'red', 'blush wine'}), support=0.010425716768027803, ordered_statistics=[OrderedStatistic(items_base=frozenset({'blush wine'}), items_add=frozenset({'red'}), confidence=1.0, lift=95.30573248407643), OrderedStatistic(items_base=frozenset({'red'}), items_add=frozenset({'blush wine'}), confidence=0.9936305732484076, lift=95.30573248407643)]),\n",
       " RelationRecord(items=frozenset({'buns', 'rolls'}), support=0.10940319454654815, ordered_statistics=[OrderedStatistic(items_base=frozenset({'buns'}), items_add=frozenset({'rolls'}), confidence=1.0, lift=9.134920634920634), OrderedStatistic(items_base=frozenset({'rolls'}), items_add=frozenset({'buns'}), confidence=0.9993894993894994, lift=9.134920634920634)]),\n",
       " RelationRecord(items=frozenset({'fertilizer', 'flower soil'}), support=0.0010693042839002875, ordered_statistics=[OrderedStatistic(items_base=frozenset({'fertilizer'}), items_add=frozenset({'flower soil'}), confidence=1.0, lift=935.1874999999999), OrderedStatistic(items_base=frozenset({'flower soil'}), items_add=frozenset({'fertilizer'}), confidence=1.0, lift=935.1874999999999)]),\n",
       " RelationRecord(items=frozenset({'film', 'photo'}), support=0.005212858384013901, ordered_statistics=[OrderedStatistic(items_base=frozenset({'film'}), items_add=frozenset({'photo'}), confidence=1.0, lift=191.83333333333331), OrderedStatistic(items_base=frozenset({'photo'}), items_add=frozenset({'film'}), confidence=1.0, lift=191.83333333333331)]),\n",
       " RelationRecord(items=frozenset({'vegetable juice', 'fruit'}), support=0.03328209583639644, ordered_statistics=[OrderedStatistic(items_base=frozenset({'fruit'}), items_add=frozenset({'vegetable juice'}), confidence=0.9803149606299213, lift=29.454724409448822), OrderedStatistic(items_base=frozenset({'vegetable juice'}), items_add=frozenset({'fruit'}), confidence=1.0, lift=29.454724409448822)]),\n",
       " RelationRecord(items=frozenset({'nuts', 'prunes'}), support=0.002205440085544343, ordered_statistics=[OrderedStatistic(items_base=frozenset({'nuts'}), items_add=frozenset({'prunes'}), confidence=1.0, lift=453.4242424242424), OrderedStatistic(items_base=frozenset({'prunes'}), items_add=frozenset({'nuts'}), confidence=1.0, lift=453.4242424242424)]),\n",
       " RelationRecord(items=frozenset({'packaged fruit', 'vegetables'}), support=0.008220276682483459, ordered_statistics=[OrderedStatistic(items_base=frozenset({'packaged fruit'}), items_add=frozenset({'vegetables'}), confidence=0.9761904761904763, lift=118.75396825396827), OrderedStatistic(items_base=frozenset({'vegetables'}), items_add=frozenset({'packaged fruit'}), confidence=1.0, lift=118.75396825396827)]),\n",
       " RelationRecord(items=frozenset({'whipped', 'sour cream'}), support=0.0429726659092428, ordered_statistics=[OrderedStatistic(items_base=frozenset({'sour cream'}), items_add=frozenset({'whipped'}), confidence=1.0, lift=23.12673879443586), OrderedStatistic(items_base=frozenset({'whipped'}), items_add=frozenset({'sour cream'}), confidence=0.9938176197836167, lift=23.12673879443586)])]"
      ]
     },
     "execution_count": 781,
     "metadata": {},
     "output_type": "execute_result"
    }
   ],
   "source": [
    "sav"
   ]
  },
  {
   "cell_type": "markdown",
   "id": "2b01e2c5",
   "metadata": {},
   "source": [
    "### Conclusions "
   ]
  },
  {
   "cell_type": "markdown",
   "id": "26a75fa1",
   "metadata": {},
   "source": [
    "- We can see by changing the values of the confidence and support the model varies. As we increase the value of min_support, the number of frequent itemsets and association rules generated by the Apriori algorithm will decrease. This is because a higher min_support value means that an itemset or association rule must be more frequent in the dataset in order to be considered as valid.\n",
    "\n",
    "- As we increase the value of min_confidence, the number of association rules generated by the Apriori algorithm will decrease. This is because a higher min_confidence value means that an association rule must be more confident (i.e., have a higher probability of being true) in order to be considered as valid."
   ]
  }
 ],
 "metadata": {
  "kernelspec": {
   "display_name": "Python 3 (ipykernel)",
   "language": "python",
   "name": "python3"
  },
  "language_info": {
   "codemirror_mode": {
    "name": "ipython",
    "version": 3
   },
   "file_extension": ".py",
   "mimetype": "text/x-python",
   "name": "python",
   "nbconvert_exporter": "python",
   "pygments_lexer": "ipython3",
   "version": "3.9.12"
  }
 },
 "nbformat": 4,
 "nbformat_minor": 5
}
